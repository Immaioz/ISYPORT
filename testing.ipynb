{
 "cells": [
  {
   "cell_type": "code",
   "execution_count": 51,
   "metadata": {},
   "outputs": [],
   "source": [
    "cameras = {\n",
    "    \"Camera Stream 1\": None,\n",
    "    \"Camera Stream 2\": None,\n",
    "    \"Camera Stream 3\": None,\n",
    "    \"Camera Stream 4\": None\n",
    "}"
   ]
  },
  {
   "cell_type": "code",
   "execution_count": 2,
   "metadata": {},
   "outputs": [
    {
     "name": "stderr",
     "output_type": "stream",
     "text": [
      "WARNING  user config directory is not writeable, defaulting to '/tmp/Ultralytics'.\n"
     ]
    }
   ],
   "source": [
    "import tkinter as tk\n",
    "import cv2\n",
    "import threading\n",
    "import time\n",
    "import numpy as np\n",
    "import requests\n",
    "from datetime import datetime\n",
    "from ultralytics import YOLO"
   ]
  },
  {
   "cell_type": "code",
   "execution_count": 4,
   "metadata": {},
   "outputs": [],
   "source": [
    "    api_key = \"916923f32ca072e53d4f02822dbc6968\"\n",
    "    city = \"Augusta, IT\"  # Replace with the desired city name\n",
    "    units = \"metric\"   # Use \"imperial\" for Fahrenheit, \"metric\" for Celsius, or \"standard\" for Kelvin\n",
    "    base_url = f\"http://api.openweathermap.org/data/2.5/weather?q={city}&units={units}&appid={api_key}\"\n",
    "    current_time = datetime.now().strftime(\"%A, %d/%m/%Y, %H:%M:%S\")\n",
    "    try:\n",
    "        response = requests.get(base_url)\n",
    "        data = response.json()\n",
    "        \n",
    "        if response.status_code == 200:\n",
    "            weather_description = data[\"weather\"][0][\"description\"]\n",
    "            temperature = data[\"main\"][\"temp\"]\n",
    "            humidity = data[\"main\"][\"humidity\"]\n",
    "            wind_speed = data[\"wind\"][\"speed\"]\n",
    "            \n",
    "            message = (\n",
    "                f\"{current_time}, Augusta:\\n\"\n",
    "                f\"Weather: {weather_description}\\n\"\n",
    "                f\"Temperature: {temperature}°C\\n\"\n",
    "                f\"Humidity: {humidity}%\\n\"\n",
    "                f\"Wind Speed: {wind_speed} m/s\\n\"\n",
    "            )\n",
    "        else:\n",
    "            print(f\"Error: {data['message']}\")\n",
    "    except Exception as e:\n",
    "        print(f\"An error occurred: {e}\")"
   ]
  },
  {
   "cell_type": "code",
   "execution_count": 8,
   "metadata": {},
   "outputs": [],
   "source": [
    "x = message.split(\"\\n\")"
   ]
  },
  {
   "cell_type": "code",
   "execution_count": 11,
   "metadata": {},
   "outputs": [
    {
     "data": {
      "text/plain": [
       "'Weather: clear sky'"
      ]
     },
     "execution_count": 11,
     "metadata": {},
     "output_type": "execute_result"
    }
   ],
   "source": [
    "x[1]"
   ]
  },
  {
   "cell_type": "code",
   "execution_count": 5,
   "metadata": {},
   "outputs": [],
   "source": [
    "city = \"Augusta, IT\""
   ]
  },
  {
   "cell_type": "code",
   "execution_count": 4,
   "metadata": {},
   "outputs": [
    {
     "name": "stdout",
     "output_type": "stream",
     "text": [
      "Tuesday, 15/08/2023, 15:07:06\n"
     ]
    }
   ],
   "source": [
    "from datetime import datetime\n",
    "\n",
    "print(datetime.now().strftime(\"%A, %d/%m/%Y, %H:%M:%S\"))\n"
   ]
  },
  {
   "cell_type": "code",
   "execution_count": 54,
   "metadata": {},
   "outputs": [
    {
     "data": {
      "text/plain": [
       "[None, None, None, None]"
      ]
     },
     "execution_count": 54,
     "metadata": {},
     "output_type": "execute_result"
    }
   ],
   "source": [
    "list(cameras.values())"
   ]
  },
  {
   "cell_type": "code",
   "execution_count": 30,
   "metadata": {},
   "outputs": [],
   "source": [
    "names = list(cameras.values())"
   ]
  },
  {
   "cell_type": "code",
   "execution_count": 44,
   "metadata": {},
   "outputs": [],
   "source": [
    "a = list(cameras.keys())[0]"
   ]
  },
  {
   "cell_type": "code",
   "execution_count": 45,
   "metadata": {},
   "outputs": [
    {
     "data": {
      "text/plain": [
       "'Camera Stream 1'"
      ]
     },
     "execution_count": 45,
     "metadata": {},
     "output_type": "execute_result"
    }
   ],
   "source": [
    "a"
   ]
  },
  {
   "cell_type": "code",
   "execution_count": 49,
   "metadata": {},
   "outputs": [],
   "source": [
    "p = int(list(cameras.keys())[0].split()[-1]) - 1"
   ]
  },
  {
   "cell_type": "code",
   "execution_count": 50,
   "metadata": {},
   "outputs": [
    {
     "data": {
      "text/plain": [
       "0"
      ]
     },
     "execution_count": 50,
     "metadata": {},
     "output_type": "execute_result"
    }
   ],
   "source": [
    "p"
   ]
  },
  {
   "cell_type": "code",
   "execution_count": 31,
   "metadata": {},
   "outputs": [],
   "source": [
    "position = names[0]"
   ]
  },
  {
   "cell_type": "code",
   "execution_count": 32,
   "metadata": {},
   "outputs": [],
   "source": [
    "position"
   ]
  },
  {
   "cell_type": "code",
   "execution_count": 15,
   "metadata": {},
   "outputs": [],
   "source": [
    "x = \"a boat is approaching\""
   ]
  },
  {
   "cell_type": "code",
   "execution_count": 16,
   "metadata": {},
   "outputs": [],
   "source": [
    "cameras[position] = x"
   ]
  },
  {
   "cell_type": "code",
   "execution_count": 17,
   "metadata": {},
   "outputs": [
    {
     "data": {
      "text/plain": [
       "{'Camera 1': 'a boat is approaching',\n",
       " 'Camera 2': None,\n",
       " 'Camera 3': None,\n",
       " 'Camera 4': None}"
      ]
     },
     "execution_count": 17,
     "metadata": {},
     "output_type": "execute_result"
    }
   ],
   "source": [
    "cameras"
   ]
  },
  {
   "cell_type": "code",
   "execution_count": 5,
   "metadata": {},
   "outputs": [],
   "source": [
    "info = [\"\",\"\",\"\",\"\"]"
   ]
  },
  {
   "cell_type": "code",
   "execution_count": 12,
   "metadata": {},
   "outputs": [
    {
     "ename": "NameError",
     "evalue": "name 'info' is not defined",
     "output_type": "error",
     "traceback": [
      "\u001b[0;31m---------------------------------------------------------------------------\u001b[0m",
      "\u001b[0;31mNameError\u001b[0m                                 Traceback (most recent call last)",
      "Cell \u001b[0;32mIn[12], line 1\u001b[0m\n\u001b[0;32m----> 1\u001b[0m info\u001b[39m.\u001b[39minsert(position,x )\n",
      "\u001b[0;31mNameError\u001b[0m: name 'info' is not defined"
     ]
    }
   ],
   "source": [
    "info.insert(position,x )"
   ]
  },
  {
   "cell_type": "code",
   "execution_count": 7,
   "metadata": {},
   "outputs": [
    {
     "name": "stdout",
     "output_type": "stream",
     "text": [
      "a boat is approaching\n",
      "\n",
      "1\n"
     ]
    }
   ],
   "source": [
    "for counter, message in enumerate(info, start=1):\n",
    "        if message:\n",
    "                print(message + \"\\n\")\n",
    "                print(counter)"
   ]
  },
  {
   "cell_type": "code",
   "execution_count": 16,
   "metadata": {},
   "outputs": [],
   "source": [
    "import requests\n",
    "\n",
    "def get_weather():\n",
    "    api_key = \"916923f32ca072e53d4f02822dbc6968\"\n",
    "    city = \"Augusta, IT\"  # Replace with the desired city name\n",
    "    units = \"metric\"   # Use \"imperial\" for Fahrenheit, \"metric\" for Celsius, or \"standard\" for Kelvin\n",
    "    base_url = f\"http://api.openweathermap.org/data/2.5/weather?q={city}&units={units}&appid={api_key}\"\n",
    "    \n",
    "    try:\n",
    "        response = requests.get(base_url)\n",
    "        data = response.json()\n",
    "        \n",
    "        if response.status_code == 200:\n",
    "            weather_description = data[\"weather\"][0][\"description\"]\n",
    "            temperature = data[\"main\"][\"temp\"]\n",
    "            humidity = data[\"main\"][\"humidity\"]\n",
    "            wind_speed = data[\"wind\"][\"speed\"]\n",
    "            \n",
    "            message = (\n",
    "                f\"Weather in {city}:\\n\"\n",
    "                f\"Description: {weather_description}\\n\"\n",
    "                f\"Temperature: {temperature} °{units}\\n\"\n",
    "                f\"Humidity: {humidity}%\\n\"\n",
    "                f\"Wind Speed: {wind_speed} m/s\\n\"\n",
    "            )\n",
    "        else:\n",
    "            print(f\"Error: {data['message']}\")\n",
    "        return message\n",
    "    except Exception as e:\n",
    "        print(f\"An error occurred: {e}\")\n"
   ]
  },
  {
   "cell_type": "code",
   "execution_count": 17,
   "metadata": {},
   "outputs": [],
   "source": [
    "message = get_weather()"
   ]
  },
  {
   "cell_type": "code",
   "execution_count": 18,
   "metadata": {},
   "outputs": [
    {
     "name": "stdout",
     "output_type": "stream",
     "text": [
      "Weather in Augusta, IT:\n",
      "Description: clear sky\n",
      "Temperature: 25.97 °metric\n",
      "Humidity: 71%\n",
      "Wind Speed: 2.66 m/s\n",
      "\n"
     ]
    }
   ],
   "source": [
    "print(message)"
   ]
  },
  {
   "cell_type": "code",
   "execution_count": null,
   "metadata": {},
   "outputs": [],
   "source": []
  }
 ],
 "metadata": {
  "kernelspec": {
   "display_name": ".venv",
   "language": "python",
   "name": "python3"
  },
  "language_info": {
   "codemirror_mode": {
    "name": "ipython",
    "version": 3
   },
   "file_extension": ".py",
   "mimetype": "text/x-python",
   "name": "python",
   "nbconvert_exporter": "python",
   "pygments_lexer": "ipython3",
   "version": "3.11.4"
  },
  "orig_nbformat": 4
 },
 "nbformat": 4,
 "nbformat_minor": 2
}
